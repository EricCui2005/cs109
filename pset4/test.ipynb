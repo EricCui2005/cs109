{
 "cells": [
  {
   "cell_type": "code",
   "execution_count": 52,
   "metadata": {},
   "outputs": [
    {
     "name": "stdout",
     "output_type": "stream",
     "text": [
      "116\n",
      "20\n",
      "0.1724137931034483\n"
     ]
    }
   ],
   "source": [
    "# music.csv\n",
    "import pandas as pd\n",
    "\n",
    "df = pd.read_csv(\"music.csv\")\n",
    "\n",
    "musical_5 = df.loc[df[\"Musical\"] == 5]\n",
    "filtered = df.loc[(df['Folk'] == 5) & (df['Musical'] == 5)]\n",
    "\n",
    "print(len(musical_5))\n",
    "print(len(filtered))\n",
    "\n",
    "print(len(filtered) / len(musical_5))"
   ]
  },
  {
   "cell_type": "code",
   "execution_count": 95,
   "metadata": {},
   "outputs": [
    {
     "name": "stdout",
     "output_type": "stream",
     "text": [
      "A ~ N(mean = 7.406725543478261, variance = 3.9832790055197966)\n",
      "B ~ N(mean = 8.030774456521739, variance = 3.6860203379465477)\n",
      "0.008501718480672691\n"
     ]
    }
   ],
   "source": [
    "import statistics\n",
    "import scipy.stats\n",
    "import math\n",
    "\n",
    "def process(file: str) -> tuple:\n",
    "    with open(file, 'r') as file:\n",
    "        content = file.read()\n",
    "        data = content.split('\\n')\n",
    "\n",
    "    # Processing strings into their numerical values\n",
    "    times = []\n",
    "    for point in data:\n",
    "        point_list = point.split(',')\n",
    "        times.append(float(point_list[0]))\n",
    "\n",
    "    # Getting array of time differences\n",
    "    times_differences = []\n",
    "    for i, time in enumerate(times):\n",
    "        if i == 0:\n",
    "            times_differences.append(time)\n",
    "        else:\n",
    "            times_differences.append(time - times[i - 1])\n",
    "\n",
    "    average = statistics.mean(times_differences)\n",
    "    variance = statistics.variance(times_differences)\n",
    "    \n",
    "    return (average, variance)\n",
    "\n",
    "def convert_to_differences(file: str):\n",
    "    with open(file, 'r') as file:\n",
    "        content = file.read()\n",
    "        data = content.split('\\n')\n",
    "\n",
    "    # Processing strings into their numerical values\n",
    "    times = []\n",
    "    for point in data:\n",
    "        point_list = point.split(',')\n",
    "        times.append(float(point_list[0]))\n",
    "\n",
    "    # Getting array of time differences\n",
    "    times_differences = []\n",
    "    for i, time in enumerate(times):\n",
    "        if i == 0:\n",
    "            times_differences.append(time)\n",
    "        else:\n",
    "            times_differences.append(time - times[i - 1])\n",
    "    \n",
    "    return times_differences\n",
    "\n",
    "# Getting gaussian parameters\n",
    "A_norm = process(\"personKeyTimingA.txt\")\n",
    "B_norm = process(\"personKeyTimingB.txt\")\n",
    "email_differences = convert_to_differences(\"email.txt\")\n",
    "\n",
    "# Logging gaussian parameters\n",
    "print(f\"A ~ N(mean = {A_norm[0]}, variance = {A_norm[1]})\")\n",
    "print(f\"B ~ N(mean = {B_norm[0]}, variance = {B_norm[1]})\")\n",
    "\n",
    "a_model = scipy.stats.norm(A_norm[0], math.sqrt(A_norm[1]))\n",
    "b_model = scipy.stats.norm(B_norm[0], math.sqrt(B_norm[1]))\n",
    "\n",
    "a_term = 1\n",
    "b_term = 1\n",
    "\n",
    "for diff in email_differences:\n",
    "    a_term *= a_model.pdf(diff)\n",
    "    b_term *= b_model.pdf(diff)\n",
    "\n",
    "print(a_term / b_term)\n"
   ]
  },
  {
   "cell_type": "code",
   "execution_count": null,
   "metadata": {},
   "outputs": [],
   "source": []
  }
 ],
 "metadata": {
  "kernelspec": {
   "display_name": ".venv",
   "language": "python",
   "name": "python3"
  },
  "language_info": {
   "codemirror_mode": {
    "name": "ipython",
    "version": 3
   },
   "file_extension": ".py",
   "mimetype": "text/x-python",
   "name": "python",
   "nbconvert_exporter": "python",
   "pygments_lexer": "ipython3",
   "version": "3.12.5"
  }
 },
 "nbformat": 4,
 "nbformat_minor": 2
}
