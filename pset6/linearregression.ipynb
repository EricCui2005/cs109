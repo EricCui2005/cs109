{
 "cells": [
  {
   "cell_type": "code",
   "execution_count": null,
   "metadata": {},
   "outputs": [
    {
     "name": "stdout",
     "output_type": "stream",
     "text": [
      "<class 'pandas.core.frame.DataFrame'>\n"
     ]
    }
   ],
   "source": [
    "import pandas as pd\n",
    "import numpy as np\n",
    "from sklearn.linear_model import LinearRegression\n",
    "from sklearn.metrics import mean_squared_error\n",
    "\n",
    "# Load train and test data\n",
    "train_data = pd.read_csv('caltrain/caltrain-train.csv')\n",
    "test_data = pd.read_csv('caltrain/caltrain-test.csv')\n",
    "\n",
    "# Extracting features and labels for training\n",
    "X_train = train_data[['is_summer', 'is_weekend', 'is_holiday', 'north_or_southbound', 'busy_time_of_day', 'temperature', 'chance_of_rain']]\n",
    "y_train = train_data['passengers_per_hour']\n",
    "\n",
    "# Extracting features and labels for testing\n",
    "X_test = test_data[['is_summer', 'is_weekend', 'is_holiday', 'north_or_southbound', 'busy_time_of_day', 'temperature', 'chance_of_rain']]\n",
    "y_test = test_data['passengers_per_hour']"
   ]
  },
  {
   "cell_type": "code",
   "execution_count": null,
   "metadata": {},
   "outputs": [],
   "source": [
    "# Create and train the Linear Regression model\n",
    "model = LinearRegression()\n",
    "model.fit(X_train, y_train)\n",
    "\n",
    "# Make predictions on the test data\n",
    "y_pred = model.predict(X_test)\n",
    "\n",
    "# Calculate Root Mean Squared Error (RMSE)\n",
    "rmse = np.sqrt(mean_squared_error(y_test, y_pred))\n",
    "print(f\"Root Mean Squared Error (RMSE): {rmse:.5f}\")"
   ]
  }
 ],
 "metadata": {
  "kernelspec": {
   "display_name": ".venv",
   "language": "python",
   "name": "python3"
  },
  "language_info": {
   "codemirror_mode": {
    "name": "ipython",
    "version": 3
   },
   "file_extension": ".py",
   "mimetype": "text/x-python",
   "name": "python",
   "nbconvert_exporter": "python",
   "pygments_lexer": "ipython3",
   "version": "3.13.0"
  }
 },
 "nbformat": 4,
 "nbformat_minor": 2
}
