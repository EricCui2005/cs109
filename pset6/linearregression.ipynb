{
 "cells": [
  {
   "cell_type": "code",
   "execution_count": 29,
   "metadata": {},
   "outputs": [],
   "source": [
    "import pandas as pd\n",
    "import numpy as np\n",
    "from sklearn.linear_model import LinearRegression\n",
    "from sklearn.metrics import mean_squared_error\n",
    "from scipy.stats import norm\n",
    "from math import sqrt\n",
    "\n",
    "# Load train and test data\n",
    "train_data = pd.read_csv('caltrain/caltrain-train.csv')\n",
    "test_data = pd.read_csv('caltrain/caltrain-test.csv')\n",
    "\n",
    "# Extracting features and labels for training\n",
    "X_train = train_data[['is_summer', 'is_weekend', 'is_holiday', 'north_or_southbound', 'busy_time_of_day', 'temperature', 'chance_of_rain']]\n",
    "y_train = train_data['passengers_per_hour']\n",
    "\n",
    "# Extracting features and labels for testing\n",
    "X_test = test_data[['is_summer', 'is_weekend', 'is_holiday', 'north_or_southbound', 'busy_time_of_day', 'temperature', 'chance_of_rain']]\n",
    "y_test = test_data['passengers_per_hour']"
   ]
  },
  {
   "cell_type": "code",
   "execution_count": 39,
   "metadata": {},
   "outputs": [
    {
     "name": "stdout",
     "output_type": "stream",
     "text": [
      "Root Mean Squared Error (RMSE): 13.75292\n"
     ]
    }
   ],
   "source": [
    "# Create and fit the model\n",
    "model = LinearRegression()\n",
    "model.fit(X_train, y_train)\n",
    "\n",
    "# Make predictions on the test data\n",
    "y_pred = model.predict(X_test)\n",
    "\n",
    "# Calculate Root Mean Squared Error (RMSE)\n",
    "rmse = np.sqrt(mean_squared_error(y_test, y_pred))\n",
    "print(f\"Root Mean Squared Error (RMSE): {rmse:.5f}\")"
   ]
  },
  {
   "cell_type": "code",
   "execution_count": 41,
   "metadata": {},
   "outputs": [],
   "source": [
    "# Creating prediction errors\n",
    "y_actual = test_data['passengers_per_hour'].to_numpy()\n",
    "\n",
    "residuals = y_actual - y_pred\n",
    "\n",
    "var = np.mean(residuals**2)"
   ]
  },
  {
   "cell_type": "code",
   "execution_count": 45,
   "metadata": {},
   "outputs": [
    {
     "name": "stdout",
     "output_type": "stream",
     "text": [
      "0.1458808483557219\n"
     ]
    }
   ],
   "source": [
    "z_value = 20 / sqrt(var)\n",
    "\n",
    "print(2 * (1 - norm.cdf(z_value)))"
   ]
  },
  {
   "cell_type": "code",
   "execution_count": null,
   "metadata": {},
   "outputs": [],
   "source": []
  }
 ],
 "metadata": {
  "kernelspec": {
   "display_name": ".venv",
   "language": "python",
   "name": "python3"
  },
  "language_info": {
   "codemirror_mode": {
    "name": "ipython",
    "version": 3
   },
   "file_extension": ".py",
   "mimetype": "text/x-python",
   "name": "python",
   "nbconvert_exporter": "python",
   "pygments_lexer": "ipython3",
   "version": "3.13.0"
  }
 },
 "nbformat": 4,
 "nbformat_minor": 2
}
