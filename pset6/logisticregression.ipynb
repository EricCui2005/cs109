{
 "cells": [
  {
   "cell_type": "code",
   "execution_count": null,
   "metadata": {},
   "outputs": [],
   "source": [
    "import pandas as pd\n",
    "from scipy.special import expit\n",
    "import numpy as np\n",
    "\n",
    "# Train data\n",
    "data = pd.read_csv('heart/heart-train.csv')\n",
    "data.insert(0, 'bias', [1] * len(data))"
   ]
  },
  {
   "cell_type": "code",
   "execution_count": null,
   "metadata": {},
   "outputs": [],
   "source": [
    "# Excluding the label\n",
    "params = [0] * (data.shape[1] - 1)\n",
    "\n",
    "learn = 0.000001\n",
    "steps = 1000\n",
    "\n",
    "# Steps\n",
    "for _ in range(steps):\n",
    "    print(f\"Trial: {_}\")\n",
    "    \n",
    "    # Initializing gradients\n",
    "    gradient = [0] * (data.shape[1] - 1) \n",
    "\n",
    "    # Iterating through rows\n",
    "    for row_tuple in data.iterrows():\n",
    "        \n",
    "        # Extracting features and labels\n",
    "        row = list(row_tuple[1])\n",
    "        features = row[:-1]\n",
    "        label = row[-1]\n",
    "\n",
    "        # Iterating through features\n",
    "        for i in range(len(features)):\n",
    "            gradient[i] += features[i] * (label - expit((np.dot(params, features))))\n",
    "       \n",
    "    # Multiplying gradient values by learn rate \n",
    "    gradient = [learn * val for val in gradient]\n",
    "\n",
    "    for i in range(len(params)):\n",
    "        params[i] += gradient[i]\n",
    "    \n",
    "    \n",
    "print(params)"
   ]
  },
  {
   "cell_type": "code",
   "execution_count": null,
   "metadata": {},
   "outputs": [],
   "source": [
    "# Testing file\n",
    "test = pd.read_csv(\"heart/heart-test.csv\")\n",
    "test.insert(0, 'bias', [1] * len(test))\n",
    "\n",
    "res = []\n",
    "for row_tuple in test.iterrows():\n",
    "    \n",
    "    # Prediction and validation\n",
    "    row = list(row_tuple[1])\n",
    "    features = row[:-1]\n",
    "    label = row[-1]\n",
    "    prediction = expit(np.dot(params, features))\n",
    "    res.append(1 if round(prediction) == label else 0)\n",
    "\n",
    "print(f\"Accuracy: {res.count(1) / len(res)}\")"
   ]
  },
  {
   "cell_type": "code",
   "execution_count": null,
   "metadata": {},
   "outputs": [],
   "source": [
    "for i, param in enumerate(params):\n",
    "    print(f\"{i}: {param}\")\n",
    "    "
   ]
  },
  {
   "cell_type": "code",
   "execution_count": null,
   "metadata": {},
   "outputs": [],
   "source": [
    "params = [abs(param) for param in params]\n",
    "print(params)\n",
    "print(max(params))"
   ]
  },
  {
   "cell_type": "code",
   "execution_count": null,
   "metadata": {},
   "outputs": [],
   "source": []
  }
 ],
 "metadata": {
  "kernelspec": {
   "display_name": ".venv",
   "language": "python",
   "name": "python3"
  },
  "language_info": {
   "codemirror_mode": {
    "name": "ipython",
    "version": 3
   },
   "file_extension": ".py",
   "mimetype": "text/x-python",
   "name": "python",
   "nbconvert_exporter": "python",
   "pygments_lexer": "ipython3",
   "version": "3.13.0"
  }
 },
 "nbformat": 4,
 "nbformat_minor": 2
}
