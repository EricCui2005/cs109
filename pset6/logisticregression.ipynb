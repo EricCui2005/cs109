{
 "cells": [
  {
   "cell_type": "code",
   "execution_count": 61,
   "metadata": {},
   "outputs": [],
   "source": [
    "import pandas as pd\n",
    "from scipy.special import expit\n",
    "import numpy as np\n",
    "\n",
    "data = pd.read_csv('simple/simple-train.csv')"
   ]
  },
  {
   "cell_type": "code",
   "execution_count": 60,
   "metadata": {},
   "outputs": [
    {
     "name": "stdout",
     "output_type": "stream",
     "text": [
      "[0, 0]\n",
      "[np.float64(0.7987714308923123), np.float64(-0.08886543362441451)]\n"
     ]
    }
   ],
   "source": [
    "# Excluding the label\n",
    "params = [0] * (data.shape[1] - 1)\n",
    "print(params)\n",
    "\n",
    "learn = 0.001\n",
    "steps = 1000\n",
    "\n",
    "# Steps\n",
    "for _ in range(steps):\n",
    "    \n",
    "    # Initializing gradients\n",
    "    gradient = [0] * (data.shape[1] - 1) \n",
    "\n",
    "    # Iterating through rows\n",
    "    for row_tuple in data.iterrows():\n",
    "        \n",
    "        # Extracting features and labels\n",
    "        row = list(row_tuple[1])\n",
    "        features = row[:-1]\n",
    "        label = row[-1]\n",
    "\n",
    "        # Iterating through features\n",
    "        for i in range(len(features)):\n",
    "            gradient[i] += features[i] * (label - expit((np.dot(params, features))))\n",
    "       \n",
    "    # Multiplying gradient values by learn rate \n",
    "    gradient = [learn * val for val in gradient]\n",
    "\n",
    "    for i in range(len(params)):\n",
    "        params[i] += gradient[i]\n",
    "    \n",
    "    \n",
    "print(params)"
   ]
  },
  {
   "cell_type": "markdown",
   "metadata": {},
   "source": []
  },
  {
   "cell_type": "code",
   "execution_count": null,
   "metadata": {},
   "outputs": [],
   "source": []
  },
  {
   "cell_type": "code",
   "execution_count": null,
   "metadata": {},
   "outputs": [],
   "source": []
  }
 ],
 "metadata": {
  "kernelspec": {
   "display_name": ".venv",
   "language": "python",
   "name": "python3"
  },
  "language_info": {
   "codemirror_mode": {
    "name": "ipython",
    "version": 3
   },
   "file_extension": ".py",
   "mimetype": "text/x-python",
   "name": "python",
   "nbconvert_exporter": "python",
   "pygments_lexer": "ipython3",
   "version": "3.13.0"
  }
 },
 "nbformat": 4,
 "nbformat_minor": 2
}
