{
 "cells": [
  {
   "cell_type": "code",
   "execution_count": null,
   "metadata": {},
   "outputs": [],
   "source": [
    "import pandas as pd\n",
    "from scipy.special import expit\n",
    "import numpy as np\n",
    "\n",
    "# Train data\n",
    "data = pd.read_csv('ancestry/ancestry-train.csv')\n",
    "data.insert(0, 'bias', [1] * len(data))"
   ]
  },
  {
   "cell_type": "code",
   "execution_count": null,
   "metadata": {},
   "outputs": [
    {
     "name": "stdout",
     "output_type": "stream",
     "text": [
      "Trial: 0\n",
      "Trial: 1\n",
      "Trial: 2\n",
      "Trial: 3\n",
      "Trial: 4\n",
      "Trial: 5\n",
      "Trial: 6\n",
      "Trial: 7\n",
      "Trial: 8\n",
      "Trial: 9\n",
      "Trial: 10\n",
      "Trial: 11\n",
      "Trial: 12\n",
      "Trial: 13\n",
      "Trial: 14\n",
      "Trial: 15\n",
      "Trial: 16\n",
      "Trial: 17\n",
      "Trial: 18\n",
      "Trial: 19\n",
      "Trial: 20\n",
      "Trial: 21\n",
      "Trial: 22\n",
      "Trial: 23\n",
      "Trial: 24\n",
      "Trial: 25\n",
      "Trial: 26\n",
      "Trial: 27\n",
      "Trial: 28\n",
      "Trial: 29\n",
      "Trial: 30\n",
      "Trial: 31\n",
      "Trial: 32\n",
      "Trial: 33\n",
      "Trial: 34\n",
      "Trial: 35\n",
      "Trial: 36\n",
      "Trial: 37\n",
      "Trial: 38\n",
      "Trial: 39\n",
      "Trial: 40\n",
      "Trial: 41\n",
      "Trial: 42\n"
     ]
    }
   ],
   "source": [
    "# Excluding the label\n",
    "params = [0] * (data.shape[1] - 1)\n",
    "\n",
    "learn = 0.0001\n",
    "steps = 1000\n",
    "\n",
    "# Steps\n",
    "for _ in range(steps):\n",
    "    print(f\"Trial: {_}\")\n",
    "    \n",
    "    # Initializing gradients\n",
    "    gradient = [0] * (data.shape[1] - 1) \n",
    "\n",
    "    # Iterating through rows\n",
    "    for row_tuple in data.iterrows():\n",
    "        \n",
    "        # Extracting features and labels\n",
    "        row = list(row_tuple[1])\n",
    "        features = row[:-1]\n",
    "        label = row[-1]\n",
    "\n",
    "        # Iterating through features\n",
    "        for i in range(len(features)):\n",
    "            gradient[i] += features[i] * (label - expit((np.dot(params, features))))\n",
    "       \n",
    "    # Multiplying gradient values by learn rate \n",
    "    gradient = [learn * val for val in gradient]\n",
    "\n",
    "    for i in range(len(params)):\n",
    "        params[i] += gradient[i]\n",
    "    \n",
    "    \n",
    "print(params)"
   ]
  },
  {
   "cell_type": "code",
   "execution_count": null,
   "metadata": {},
   "outputs": [],
   "source": [
    "# Testing file\n",
    "test = pd.read_csv(\"ancestry/ancestry-test.csv\")\n",
    "test.insert(0, 'bias', [1] * len(test))\n",
    "\n",
    "res = []\n",
    "for row_tuple in test.iterrows():\n",
    "    \n",
    "    # Prediction and validation\n",
    "    row = list(row_tuple[1])\n",
    "    features = row[:-1]\n",
    "    label = row[-1]\n",
    "    prediction = expit(np.dot(params, features))\n",
    "    res.append(1 if round(prediction) == label else 0)\n",
    "\n",
    "print(f\"Accuracy: {res.count(1) / len(res)}\")\n",
    "\n",
    "\n",
    "    \n"
   ]
  },
  {
   "cell_type": "code",
   "execution_count": null,
   "metadata": {},
   "outputs": [],
   "source": [
    "params = [abs(param) for param in params]\n",
    "print(params)\n",
    "print(max(params))"
   ]
  },
  {
   "cell_type": "code",
   "execution_count": null,
   "metadata": {},
   "outputs": [],
   "source": []
  }
 ],
 "metadata": {
  "kernelspec": {
   "display_name": ".venv",
   "language": "python",
   "name": "python3"
  },
  "language_info": {
   "codemirror_mode": {
    "name": "ipython",
    "version": 3
   },
   "file_extension": ".py",
   "mimetype": "text/x-python",
   "name": "python",
   "nbconvert_exporter": "python",
   "pygments_lexer": "ipython3",
   "version": "3.13.0"
  }
 },
 "nbformat": 4,
 "nbformat_minor": 2
}
