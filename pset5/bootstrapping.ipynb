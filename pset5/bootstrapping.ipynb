{
 "cells": [
  {
   "cell_type": "code",
   "execution_count": 18,
   "metadata": {},
   "outputs": [],
   "source": [
    "import pandas as pd\n",
    "\n",
    "data = pd.read_csv(\"learningOutcomes.csv\")"
   ]
  },
  {
   "cell_type": "code",
   "execution_count": 36,
   "metadata": {},
   "outputs": [
    {
     "name": "stdout",
     "output_type": "stream",
     "text": [
      "8.398085385568976\n"
     ]
    }
   ],
   "source": [
    "# Finding differences in mean\n",
    "data_activity_1 = data[data[\"activity2\"] == \"activity1\"]\n",
    "data_activity_2 = data[data[\"activity2\"] == \"activity2\"]\n",
    "\n",
    "outcomes_1 = data_activity_1[\"53\"]\n",
    "outcomes_2 = data_activity_2[\"53\"]\n",
    "\n",
    "sample_mean_difference = abs(outcomes_1.mean() - outcomes_2.mean())\n",
    "\n",
    "print(sample_mean_difference)"
   ]
  },
  {
   "cell_type": "code",
   "execution_count": 39,
   "metadata": {},
   "outputs": [
    {
     "name": "stdout",
     "output_type": "stream",
     "text": [
      "0.04134\n"
     ]
    }
   ],
   "source": [
    "import random\n",
    "from statistics import mean\n",
    "\n",
    "# Bootstrapping\n",
    "# Defining number of activity1 and activity2 resamples\n",
    "activity_1_samples = len(outcomes_1)\n",
    "activity_2_samples = len(outcomes_2)\n",
    "\n",
    "# Combining two samples\n",
    "combined = list(outcomes_1) + list(outcomes_2)\n",
    "\n",
    "# Defining count and num iterations\n",
    "count = 0\n",
    "iterations = 100000\n",
    "\n",
    "# Iterating and estimating\n",
    "for i in range(iterations):\n",
    "    activity_1_resample = [random.choice(combined) for j in range(activity_1_samples)]\n",
    "    activity_2_resample = [random.choice(combined) for j in range(activity_2_samples)]\n",
    "    mu_1 = mean(activity_1_resample)\n",
    "    mu_2 = mean(activity_2_resample)\n",
    "    if abs(mu_1 - mu_2) >= sample_mean_difference:\n",
    "        count += 1\n",
    "print(count / iterations)\n"
   ]
  },
  {
   "cell_type": "code",
   "execution_count": null,
   "metadata": {},
   "outputs": [],
   "source": []
  }
 ],
 "metadata": {
  "kernelspec": {
   "display_name": "Python 3",
   "language": "python",
   "name": "python3"
  },
  "language_info": {
   "codemirror_mode": {
    "name": "ipython",
    "version": 3
   },
   "file_extension": ".py",
   "mimetype": "text/x-python",
   "name": "python",
   "nbconvert_exporter": "python",
   "pygments_lexer": "ipython3",
   "version": "3.13.0"
  }
 },
 "nbformat": 4,
 "nbformat_minor": 2
}
