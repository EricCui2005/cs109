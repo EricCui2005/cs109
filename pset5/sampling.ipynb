{
 "cells": [
  {
   "cell_type": "code",
   "execution_count": null,
   "metadata": {},
   "outputs": [],
   "source": [
    "import pandas as pd\n",
    "import statistics\n",
    "import random\n",
    "\n",
    "data = pd.read_csv(\"peerGrades.csv\")\n",
    "scores = list(data['65'])"
   ]
  },
  {
   "cell_type": "code",
   "execution_count": null,
   "metadata": {},
   "outputs": [],
   "source": [
    "# Mean\n",
    "iterations = 10000\n",
    "means = []\n",
    "for i in range(iterations):\n",
    "    sample = []\n",
    "    for i in range(5):\n",
    "        sample.append(random.choice(scores))\n",
    "    means.append(statistics.mean(sample))\n",
    "\n",
    "print(statistics.variance(means))\n",
    "\n"
   ]
  },
  {
   "cell_type": "code",
   "execution_count": null,
   "metadata": {},
   "outputs": [],
   "source": [
    "# Median\n",
    "iterations = 10000\n",
    "medians = []\n",
    "for i in range(iterations):\n",
    "    sample = []\n",
    "    for i in range(5):\n",
    "        sample.append(random.choice(scores))\n",
    "    medians.append(statistics.median(sample))\n",
    "\n",
    "print(statistics.variance(medians))\n",
    "\n"
   ]
  },
  {
   "cell_type": "code",
   "execution_count": null,
   "metadata": {},
   "outputs": [],
   "source": []
  },
  {
   "cell_type": "code",
   "execution_count": null,
   "metadata": {},
   "outputs": [],
   "source": []
  }
 ],
 "metadata": {
  "kernelspec": {
   "display_name": ".venv",
   "language": "python",
   "name": "python3"
  },
  "language_info": {
   "codemirror_mode": {
    "name": "ipython",
    "version": 3
   },
   "file_extension": ".py",
   "mimetype": "text/x-python",
   "name": "python",
   "nbconvert_exporter": "python",
   "pygments_lexer": "ipython3",
   "version": "3.13.0"
  }
 },
 "nbformat": 4,
 "nbformat_minor": 2
}
